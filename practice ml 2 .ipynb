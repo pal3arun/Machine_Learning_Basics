{
 "cells": [
  {
   "cell_type": "code",
   "execution_count": 1,
   "metadata": {},
   "outputs": [
    {
     "name": "stdout",
     "output_type": "stream",
     "text": [
      "1.12.0\n"
     ]
    }
   ],
   "source": [
    "from __future__ import absolute_import, division, print_function\n",
    "\n",
    "import tensorflow as tf\n",
    "from tensorflow import keras\n",
    "\n",
    "import numpy as np\n",
    "\n",
    "print(tf.__version__)"
   ]
  },
  {
   "cell_type": "code",
   "execution_count": 2,
   "metadata": {},
   "outputs": [],
   "source": [
    "imdb = keras.datasets.imdb\n",
    "\n",
    "(train_data, train_labels), (test_data, test_labels) = imdb.load_data(num_words=10000)"
   ]
  },
  {
   "cell_type": "code",
   "execution_count": 3,
   "metadata": {},
   "outputs": [
    {
     "name": "stdout",
     "output_type": "stream",
     "text": [
      "Training entries: 25000, labels: 25000\n"
     ]
    }
   ],
   "source": [
    "print(\"Training entries: {}, labels: {}\".format(len(train_data), len(train_labels)))"
   ]
  },
  {
   "cell_type": "code",
   "execution_count": 4,
   "metadata": {},
   "outputs": [
    {
     "name": "stdout",
     "output_type": "stream",
     "text": [
      "[1, 14, 22, 16, 43, 530, 973, 1622, 1385, 65, 458, 4468, 66, 3941, 4, 173, 36, 256, 5, 25, 100, 43, 838, 112, 50, 670, 2, 9, 35, 480, 284, 5, 150, 4, 172, 112, 167, 2, 336, 385, 39, 4, 172, 4536, 1111, 17, 546, 38, 13, 447, 4, 192, 50, 16, 6, 147, 2025, 19, 14, 22, 4, 1920, 4613, 469, 4, 22, 71, 87, 12, 16, 43, 530, 38, 76, 15, 13, 1247, 4, 22, 17, 515, 17, 12, 16, 626, 18, 2, 5, 62, 386, 12, 8, 316, 8, 106, 5, 4, 2223, 5244, 16, 480, 66, 3785, 33, 4, 130, 12, 16, 38, 619, 5, 25, 124, 51, 36, 135, 48, 25, 1415, 33, 6, 22, 12, 215, 28, 77, 52, 5, 14, 407, 16, 82, 2, 8, 4, 107, 117, 5952, 15, 256, 4, 2, 7, 3766, 5, 723, 36, 71, 43, 530, 476, 26, 400, 317, 46, 7, 4, 2, 1029, 13, 104, 88, 4, 381, 15, 297, 98, 32, 2071, 56, 26, 141, 6, 194, 7486, 18, 4, 226, 22, 21, 134, 476, 26, 480, 5, 144, 30, 5535, 18, 51, 36, 28, 224, 92, 25, 104, 4, 226, 65, 16, 38, 1334, 88, 12, 16, 283, 5, 16, 4472, 113, 103, 32, 15, 16, 5345, 19, 178, 32]\n"
     ]
    }
   ],
   "source": [
    "print(train_data[0])"
   ]
  },
  {
   "cell_type": "code",
   "execution_count": 5,
   "metadata": {},
   "outputs": [
    {
     "data": {
      "text/plain": [
       "(218, 189)"
      ]
     },
     "execution_count": 5,
     "metadata": {},
     "output_type": "execute_result"
    }
   ],
   "source": [
    "len(train_data[0]), len(train_data[1])"
   ]
  },
  {
   "cell_type": "code",
   "execution_count": 6,
   "metadata": {},
   "outputs": [],
   "source": [
    "# A dictionary mapping words to an integer index\n",
    "word_index = imdb.get_word_index()\n",
    "\n",
    "# The first indices are reserved\n",
    "word_index = {k:(v+3) for k,v in word_index.items()} \n",
    "word_index[\"<PAD>\"] = 0\n",
    "word_index[\"<START>\"] = 1\n",
    "word_index[\"<UNK>\"] = 2  # unknown\n",
    "word_index[\"<UNUSED>\"] = 3\n",
    "\n",
    "reverse_word_index = dict([(value, key) for (key, value) in word_index.items()])\n",
    "\n",
    "def decode_review(text):\n",
    "    return ' '.join([reverse_word_index.get(i, '?') for i in text])"
   ]
  },
  {
   "cell_type": "code",
   "execution_count": 7,
   "metadata": {},
   "outputs": [
    {
     "data": {
      "text/plain": [
       "\"<START> this film was just brilliant casting location scenery story direction everyone's really suited the part they played and you could just imagine being there robert <UNK> is an amazing actor and now the same being director <UNK> father came from the same scottish island as myself so i loved the fact there was a real connection with this film the witty remarks throughout the film were great it was just brilliant so much that i bought the film as soon as it was released for <UNK> and would recommend it to everyone to watch and the fly fishing was amazing really cried at the end it was so sad and you know what they say if you cry at a film it must have been good and this definitely was also <UNK> to the two little boy's that played the <UNK> of norman and paul they were just brilliant children are often left out of the <UNK> list i think because the stars that play them all grown up are such a big profile for the whole film but these children are amazing and should be praised for what they have done don't you think the whole story was so lovely because it was true and was someone's life after all that was shared with us all\""
      ]
     },
     "execution_count": 7,
     "metadata": {},
     "output_type": "execute_result"
    }
   ],
   "source": [
    "decode_review(train_data[0])"
   ]
  },
  {
   "cell_type": "code",
   "execution_count": 8,
   "metadata": {},
   "outputs": [
    {
     "data": {
      "text/plain": [
       "\"<START> a total waste of time just throw in a few explosions non stop fighting exotic cars a deranged millionaire slow motion computer generated car crashes and last but not least a hugh <UNK> like character with wall to wall hot babes and mix in a <UNK> and you will have this sorry excuse for a movie i really got a laugh out of the dr evil like heavily <UNK> compound the plot was somewhere between preposterous and non existent how many <UNK> are willing to make a 25 million dollar bet on a car race answer 4 but didn't they become <UNK> through <UNK> responsibility this was written for <UNK> males it plays like a video game i did enjoy the <UNK> ii landing in the desert though\""
      ]
     },
     "execution_count": 8,
     "metadata": {},
     "output_type": "execute_result"
    }
   ],
   "source": [
    "decode_review(train_data[15])"
   ]
  },
  {
   "cell_type": "code",
   "execution_count": 9,
   "metadata": {},
   "outputs": [],
   "source": [
    "train_data = keras.preprocessing.sequence.pad_sequences(train_data,\n",
    "                                                        value=word_index[\"<PAD>\"],\n",
    "                                                        padding='post',\n",
    "                                                        maxlen=256)\n",
    "\n",
    "test_data = keras.preprocessing.sequence.pad_sequences(test_data,\n",
    "                                                       value=word_index[\"<PAD>\"],\n",
    "                                                       padding='post',\n",
    "                                                       maxlen=256)"
   ]
  },
  {
   "cell_type": "code",
   "execution_count": 10,
   "metadata": {},
   "outputs": [
    {
     "data": {
      "text/plain": [
       "(256, 256)"
      ]
     },
     "execution_count": 10,
     "metadata": {},
     "output_type": "execute_result"
    }
   ],
   "source": [
    "len(train_data[0]), len(train_data[1])"
   ]
  },
  {
   "cell_type": "code",
   "execution_count": 11,
   "metadata": {},
   "outputs": [
    {
     "name": "stdout",
     "output_type": "stream",
     "text": [
      "[   1   14   22   16   43  530  973 1622 1385   65  458 4468   66 3941\n",
      "    4  173   36  256    5   25  100   43  838  112   50  670    2    9\n",
      "   35  480  284    5  150    4  172  112  167    2  336  385   39    4\n",
      "  172 4536 1111   17  546   38   13  447    4  192   50   16    6  147\n",
      " 2025   19   14   22    4 1920 4613  469    4   22   71   87   12   16\n",
      "   43  530   38   76   15   13 1247    4   22   17  515   17   12   16\n",
      "  626   18    2    5   62  386   12    8  316    8  106    5    4 2223\n",
      " 5244   16  480   66 3785   33    4  130   12   16   38  619    5   25\n",
      "  124   51   36  135   48   25 1415   33    6   22   12  215   28   77\n",
      "   52    5   14  407   16   82    2    8    4  107  117 5952   15  256\n",
      "    4    2    7 3766    5  723   36   71   43  530  476   26  400  317\n",
      "   46    7    4    2 1029   13  104   88    4  381   15  297   98   32\n",
      " 2071   56   26  141    6  194 7486   18    4  226   22   21  134  476\n",
      "   26  480    5  144   30 5535   18   51   36   28  224   92   25  104\n",
      "    4  226   65   16   38 1334   88   12   16  283    5   16 4472  113\n",
      "  103   32   15   16 5345   19  178   32    0    0    0    0    0    0\n",
      "    0    0    0    0    0    0    0    0    0    0    0    0    0    0\n",
      "    0    0    0    0    0    0    0    0    0    0    0    0    0    0\n",
      "    0    0    0    0]\n"
     ]
    }
   ],
   "source": [
    "print(train_data[0])"
   ]
  },
  {
   "cell_type": "code",
   "execution_count": 12,
   "metadata": {},
   "outputs": [
    {
     "name": "stdout",
     "output_type": "stream",
     "text": [
      "_________________________________________________________________\n",
      "Layer (type)                 Output Shape              Param #   \n",
      "=================================================================\n",
      "embedding (Embedding)        (None, None, 16)          160000    \n",
      "_________________________________________________________________\n",
      "global_average_pooling1d (Gl (None, 16)                0         \n",
      "_________________________________________________________________\n",
      "dense (Dense)                (None, 16)                272       \n",
      "_________________________________________________________________\n",
      "dense_1 (Dense)              (None, 1)                 17        \n",
      "=================================================================\n",
      "Total params: 160,289\n",
      "Trainable params: 160,289\n",
      "Non-trainable params: 0\n",
      "_________________________________________________________________\n"
     ]
    }
   ],
   "source": [
    "# input shape is the vocabulary count used for the movie reviews (10,000 words)\n",
    "vocab_size = 10000\n",
    "\n",
    "model = keras.Sequential()\n",
    "model.add(keras.layers.Embedding(vocab_size, 16))\n",
    "model.add(keras.layers.GlobalAveragePooling1D())\n",
    "model.add(keras.layers.Dense(16, activation=tf.nn.relu))\n",
    "model.add(keras.layers.Dense(1, activation=tf.nn.sigmoid))\n",
    "\n",
    "model.summary()"
   ]
  },
  {
   "cell_type": "code",
   "execution_count": 13,
   "metadata": {},
   "outputs": [],
   "source": [
    "model.compile(optimizer='adam',\n",
    "              loss='binary_crossentropy',\n",
    "              metrics=['accuracy'])"
   ]
  },
  {
   "cell_type": "code",
   "execution_count": 14,
   "metadata": {},
   "outputs": [],
   "source": [
    "x_val = train_data[:10000]\n",
    "partial_x_train = train_data[10000:]\n",
    "\n",
    "y_val = train_labels[:10000]\n",
    "partial_y_train = train_labels[10000:]"
   ]
  },
  {
   "cell_type": "code",
   "execution_count": 15,
   "metadata": {},
   "outputs": [
    {
     "name": "stderr",
     "output_type": "stream",
     "text": [
      "C:\\Users\\pal3a\\Anaconda3\\envs\\env\\lib\\site-packages\\tensorflow\\python\\ops\\gradients_impl.py:112: UserWarning: Converting sparse IndexedSlices to a dense Tensor of unknown shape. This may consume a large amount of memory.\n",
      "  \"Converting sparse IndexedSlices to a dense Tensor of unknown shape. \"\n"
     ]
    },
    {
     "name": "stdout",
     "output_type": "stream",
     "text": [
      "Train on 15000 samples, validate on 10000 samples\n",
      "Epoch 1/40\n",
      "15000/15000 [==============================] - 1s 49us/step - loss: 0.6922 - acc: 0.6137 - val_loss: 0.6906 - val_acc: 0.7043\n",
      "Epoch 2/40\n",
      "15000/15000 [==============================] - 0s 33us/step - loss: 0.6866 - acc: 0.6991 - val_loss: 0.6817 - val_acc: 0.7366\n",
      "Epoch 3/40\n",
      "15000/15000 [==============================] - 0s 29us/step - loss: 0.6728 - acc: 0.7536 - val_loss: 0.6644 - val_acc: 0.7493\n",
      "Epoch 4/40\n",
      "15000/15000 [==============================] - 1s 34us/step - loss: 0.6483 - acc: 0.7641 - val_loss: 0.6370 - val_acc: 0.7638\n",
      "Epoch 5/40\n",
      "15000/15000 [==============================] - 1s 35us/step - loss: 0.6124 - acc: 0.7921 - val_loss: 0.5988 - val_acc: 0.7847\n",
      "Epoch 6/40\n",
      "15000/15000 [==============================] - 1s 37us/step - loss: 0.5678 - acc: 0.8113 - val_loss: 0.5560 - val_acc: 0.8003\n",
      "Epoch 7/40\n",
      "15000/15000 [==============================] - 1s 43us/step - loss: 0.5191 - acc: 0.8323 - val_loss: 0.5116 - val_acc: 0.8197\n",
      "Epoch 8/40\n",
      "15000/15000 [==============================] - 1s 35us/step - loss: 0.4711 - acc: 0.8481 - val_loss: 0.4701 - val_acc: 0.8343\n",
      "Epoch 9/40\n",
      "15000/15000 [==============================] - 1s 34us/step - loss: 0.4276 - acc: 0.8598 - val_loss: 0.4335 - val_acc: 0.8450\n",
      "Epoch 10/40\n",
      "15000/15000 [==============================] - 0s 29us/step - loss: 0.3888 - acc: 0.8746 - val_loss: 0.4032 - val_acc: 0.8523\n",
      "Epoch 11/40\n",
      "15000/15000 [==============================] - 0s 31us/step - loss: 0.3566 - acc: 0.8831 - val_loss: 0.3810 - val_acc: 0.8578\n",
      "Epoch 12/40\n",
      "15000/15000 [==============================] - 1s 34us/step - loss: 0.3301 - acc: 0.8892 - val_loss: 0.3594 - val_acc: 0.8654\n",
      "Epoch 13/40\n",
      "15000/15000 [==============================] - 1s 36us/step - loss: 0.3062 - acc: 0.8964 - val_loss: 0.3446 - val_acc: 0.8693\n",
      "Epoch 14/40\n",
      "15000/15000 [==============================] - 0s 32us/step - loss: 0.2866 - acc: 0.9029 - val_loss: 0.3316 - val_acc: 0.8728\n",
      "Epoch 15/40\n",
      "15000/15000 [==============================] - 0s 33us/step - loss: 0.2696 - acc: 0.9067 - val_loss: 0.3217 - val_acc: 0.8748\n",
      "Epoch 16/40\n",
      "15000/15000 [==============================] - 0s 32us/step - loss: 0.2551 - acc: 0.9114 - val_loss: 0.3136 - val_acc: 0.8775\n",
      "Epoch 17/40\n",
      "15000/15000 [==============================] - 0s 32us/step - loss: 0.2410 - acc: 0.9167 - val_loss: 0.3069 - val_acc: 0.8773\n",
      "Epoch 18/40\n",
      "15000/15000 [==============================] - 1s 34us/step - loss: 0.2288 - acc: 0.9219 - val_loss: 0.3015 - val_acc: 0.8808\n",
      "Epoch 19/40\n",
      "15000/15000 [==============================] - 0s 32us/step - loss: 0.2174 - acc: 0.9253 - val_loss: 0.2972 - val_acc: 0.8823\n",
      "Epoch 20/40\n",
      "15000/15000 [==============================] - 1s 37us/step - loss: 0.2074 - acc: 0.9283 - val_loss: 0.2936 - val_acc: 0.8833\n",
      "Epoch 21/40\n",
      "15000/15000 [==============================] - 0s 30us/step - loss: 0.1977 - acc: 0.9324 - val_loss: 0.2907 - val_acc: 0.8833\n",
      "Epoch 22/40\n",
      "15000/15000 [==============================] - 0s 29us/step - loss: 0.1887 - acc: 0.9366 - val_loss: 0.2889 - val_acc: 0.8838\n",
      "Epoch 23/40\n",
      "15000/15000 [==============================] - 0s 30us/step - loss: 0.1806 - acc: 0.9403 - val_loss: 0.2878 - val_acc: 0.8842\n",
      "Epoch 24/40\n",
      "15000/15000 [==============================] - 0s 29us/step - loss: 0.1724 - acc: 0.9446 - val_loss: 0.2861 - val_acc: 0.8842\n",
      "Epoch 25/40\n",
      "15000/15000 [==============================] - 1s 35us/step - loss: 0.1653 - acc: 0.9477 - val_loss: 0.2855 - val_acc: 0.8850\n",
      "Epoch 26/40\n",
      "15000/15000 [==============================] - 0s 29us/step - loss: 0.1581 - acc: 0.9498 - val_loss: 0.2856 - val_acc: 0.8857\n",
      "Epoch 27/40\n",
      "15000/15000 [==============================] - 0s 31us/step - loss: 0.1521 - acc: 0.9527 - val_loss: 0.2863 - val_acc: 0.8847\n",
      "Epoch 28/40\n",
      "15000/15000 [==============================] - 0s 30us/step - loss: 0.1457 - acc: 0.9562 - val_loss: 0.2861 - val_acc: 0.8866\n",
      "Epoch 29/40\n",
      "15000/15000 [==============================] - 0s 32us/step - loss: 0.1399 - acc: 0.9569 - val_loss: 0.2868 - val_acc: 0.8866\n",
      "Epoch 30/40\n",
      "15000/15000 [==============================] - 0s 29us/step - loss: 0.1349 - acc: 0.9595 - val_loss: 0.2882 - val_acc: 0.8870\n",
      "Epoch 31/40\n",
      "15000/15000 [==============================] - 0s 29us/step - loss: 0.1287 - acc: 0.9621 - val_loss: 0.2898 - val_acc: 0.8866\n",
      "Epoch 32/40\n",
      "15000/15000 [==============================] - 0s 30us/step - loss: 0.1240 - acc: 0.9639 - val_loss: 0.2918 - val_acc: 0.8861\n",
      "Epoch 33/40\n",
      "15000/15000 [==============================] - 0s 30us/step - loss: 0.1186 - acc: 0.9667 - val_loss: 0.2938 - val_acc: 0.8860\n",
      "Epoch 34/40\n",
      "15000/15000 [==============================] - 0s 30us/step - loss: 0.1141 - acc: 0.9678 - val_loss: 0.2965 - val_acc: 0.8855\n",
      "Epoch 35/40\n",
      "15000/15000 [==============================] - 0s 31us/step - loss: 0.1101 - acc: 0.9695 - val_loss: 0.2983 - val_acc: 0.8864\n",
      "Epoch 36/40\n",
      "15000/15000 [==============================] - 1s 35us/step - loss: 0.1052 - acc: 0.9712 - val_loss: 0.3013 - val_acc: 0.8856\n",
      "Epoch 37/40\n",
      "15000/15000 [==============================] - 0s 30us/step - loss: 0.1013 - acc: 0.9729 - val_loss: 0.3043 - val_acc: 0.8843\n",
      "Epoch 38/40\n",
      "15000/15000 [==============================] - 0s 31us/step - loss: 0.0979 - acc: 0.9730 - val_loss: 0.3077 - val_acc: 0.8831\n",
      "Epoch 39/40\n",
      "15000/15000 [==============================] - 1s 37us/step - loss: 0.0935 - acc: 0.9755 - val_loss: 0.3101 - val_acc: 0.8832\n",
      "Epoch 40/40\n",
      "15000/15000 [==============================] - 0s 31us/step - loss: 0.0898 - acc: 0.9771 - val_loss: 0.3136 - val_acc: 0.8826\n"
     ]
    }
   ],
   "source": [
    "history = model.fit(partial_x_train,\n",
    "                    partial_y_train,\n",
    "                    epochs=40,\n",
    "                    batch_size=512,\n",
    "                    validation_data=(x_val, y_val),\n",
    "                    verbose=1)"
   ]
  },
  {
   "cell_type": "code",
   "execution_count": 16,
   "metadata": {},
   "outputs": [
    {
     "name": "stdout",
     "output_type": "stream",
     "text": [
      "25000/25000 [==============================] - 0s 16us/step\n",
      "[0.33398062759399416, 0.87256]\n"
     ]
    }
   ],
   "source": [
    "results = model.evaluate(test_data, test_labels)\n",
    "\n",
    "print(results)"
   ]
  },
  {
   "cell_type": "code",
   "execution_count": 17,
   "metadata": {},
   "outputs": [
    {
     "data": {
      "text/plain": [
       "dict_keys(['val_loss', 'val_acc', 'loss', 'acc'])"
      ]
     },
     "execution_count": 17,
     "metadata": {},
     "output_type": "execute_result"
    }
   ],
   "source": [
    "history_dict = history.history\n",
    "history_dict.keys()"
   ]
  },
  {
   "cell_type": "code",
   "execution_count": 18,
   "metadata": {},
   "outputs": [
    {
     "data": {
      "text/plain": [
       "<Figure size 640x480 with 1 Axes>"
      ]
     },
     "metadata": {},
     "output_type": "display_data"
    }
   ],
   "source": [
    "import matplotlib.pyplot as plt\n",
    "\n",
    "acc = history_dict['acc']\n",
    "val_acc = history_dict['val_acc']\n",
    "loss = history_dict['loss']\n",
    "val_loss = history_dict['val_loss']\n",
    "\n",
    "epochs = range(1, len(acc) + 1)\n",
    "\n",
    "# \"bo\" is for \"blue dot\"\n",
    "plt.plot(epochs, loss, 'bo', label='Training loss')\n",
    "# b is for \"solid blue line\"\n",
    "plt.plot(epochs, val_loss, 'b', label='Validation loss')\n",
    "plt.title('Training and validation loss')\n",
    "plt.xlabel('Epochs')\n",
    "plt.ylabel('Loss')\n",
    "plt.legend()\n",
    "\n",
    "plt.show()"
   ]
  },
  {
   "cell_type": "code",
   "execution_count": 19,
   "metadata": {
    "scrolled": true
   },
   "outputs": [
    {
     "data": {
      "image/png": "[encoded data removed]",
      "text/plain": [
       "<Figure size 432x288 with 1 Axes>"
      ]
     },
     "metadata": {
      "needs_background": "light"
     },
     "output_type": "display_data"
    }
   ],
   "source": [
    "plt.clf()   # clear figure\n",
    "\n",
    "plt.plot(epochs, acc, 'bo', label='Training acc')\n",
    "plt.plot(epochs, val_acc, 'b', label='Validation acc')\n",
    "plt.title('Training and validation accuracy')\n",
    "plt.xlabel('Epochs')\n",
    "plt.ylabel('Accuracy')\n",
    "plt.legend()\n",
    "\n",
    "plt.show()"
   ]
  },
  {
   "cell_type": "code",
   "execution_count": null,
   "metadata": {},
   "outputs": [],
   "source": []
  }
 ],
 "metadata": {
  "kernelspec": {
   "display_name": "Python 3",
   "language": "python",
   "name": "python3"
  },
  "language_info": {
   "codemirror_mode": {
    "name": "ipython",
    "version": 3
   },
   "file_extension": ".py",
   "mimetype": "text/x-python",
   "name": "python",
   "nbconvert_exporter": "python",
   "pygments_lexer": "ipython3",
   "version": "3.6.8"
  }
 },
 "nbformat": 4,
 "nbformat_minor": 2
}

